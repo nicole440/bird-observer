{
 "cells": [
  {
   "cell_type": "code",
   "execution_count": 59,
   "metadata": {},
   "outputs": [
    {
     "name": "stdout",
     "output_type": "stream",
     "text": [
      "[<div class=\"grid-4 the__content\">\n",
      "<p><strong>Every document MUST be accompanied by a cover page generated on our website. And please: NO STAPLES. </strong></p>\n",
      "<h2>Recording Fees</h2>\n",
      "<p><strong>BASE fee for recording Deeds and Mortgages</strong><br/>\n",
      "Maximum of 4 pages<br/>\n",
      "$49.00</p>\n",
      "<p><strong>BASE fee for other documents included in Acts 126 and 113 of 2014, and Acts 40 and 44 of 2017.</strong><br/>\n",
      "Maximum of 4 pages<br/>\n",
      "This fee includes Assignments of Mortgage, Releases, Satisfactions, Agreements of Sale, Leases, Rights-of-Way, all Memorandums of Lease and Easements.<br/>\n",
      "$37.50</p>\n",
      "<p><strong>BASE fee for documents</strong><br/>\n",
      "Maximum 4 pages<br/>\n",
      "This fee includes Agreements, Terminations, Modifications, and Subordinations/Postponements.<br/>\n",
      "$58.75</p>\n",
      "<p><strong>BASE fee for other miscellaneous documents </strong><br/>\n",
      "Maximum of 4 pages<br/>\n",
      "Powers of Attorney, and Deputations<br/>\n",
      "$18.50</p>\n",
      "<p><strong><em>EACH additional page after 4 is $2.00. </em></strong><br/>\n",
      "NO REFUNDS WILL BE GIVEN!</p>\n",
      "<hr/>\n",
      "<h3 id=\"toc1\">Commissions and Deputations</h3>\n",
      "<p><strong>Notary Public Commission and Bond</strong><br/>\n",
      "$32.00</p>\n",
      "<p><strong>Notary Signature Registration</strong> (Prothonotary Fee)<br/>\n",
      "$4.75</p>\n",
      "<p><strong>Notary Change of Name</strong><br/>\n",
      "$16.50<br/>\n",
      "<em>Must pay $4.75 to register signature. Must come into office to record.</em></p>\n",
      "<p><em>**Please note that Notary Change of Address forms no longer have to be recorded with the Recorder of Deeds office.</em></p>\n",
      "<p><strong>Notaries</strong>: You can now register your signature in the Recorder of Deed’s office instead of going to the Prothonotary. We can accept cash or check for $36.75, which includes the Prothonotary’s Fee for signature registration.</p>\n",
      "<hr/>\n",
      "<h3 id=\"toc2\">Plans and Maps</h3>\n",
      "<p><strong>Condominium Plans</strong> (Minimum 18″x24″, Maximum 24″x36″)<br/>\n",
      "$30.00 for the first page and $2.00 for each additional page (Note: first page is the cover page created in the Recorder’s office, then it’s $2.00 for each page of plan.)</p>\n",
      "<p><strong>State Highway Plans </strong><br/>\n",
      "$15.00 for the first page and $2.00 for each additional page</p>\n",
      "<p><strong>Subdivision Plans</strong> (Minimum 18″x24″, Maximum 24″x36″)<br/>\n",
      "$15.00 for the first page and $2.00 for each additional page (Note: The first page is the sheet provided by planning, and then $2.00 for each page of the plan)</p>\n",
      "<p><strong>Storm Water Management Plans </strong>(Minimum 18″x24″, Maximum 24″x36″)<br/>\n",
      "$15.00 for the first page and $2.00 for each additional page (Note: The first page is the sheet provided by planning, and then $2.00 for each page of the plan)</p>\n",
      "<p><strong>Mylar and paper plans are both accepted for recording.</strong></p>\n",
      "<hr/>\n",
      "<h3 id=\"toc3\">Filing Fees</h3>\n",
      "<p><strong>Municipality (Notices/Ordinances) Base Fee-Maximum of 4 pages</strong><br/>\n",
      "$18.50<br/>\n",
      "$2.00 each additional page over 4</p>\n",
      "<p><strong>UCC-1 Secured Transactions </strong><br/>\n",
      "$100.00</p>\n",
      "<p><strong>UCC-3 (Standard Form) each document</strong><br/>\n",
      "$100.00</p>\n",
      "<p><strong>Veterans Service Discharge (DD-214) </strong><br/>\n",
      "FREE</p>\n",
      "<hr/>\n",
      "<h3 id=\"toc4\">Miscellaneous Fees</h3>\n",
      "<p><strong>Copy of Public Utilities Filings per Municipality</strong><br/>\n",
      "$5.00</p>\n",
      "<p><strong>Certifications </strong><br/>\n",
      "$10.00</p>\n",
      "<p><strong>Copies</strong> (Each page)<br/>\n",
      "$.25</p>\n",
      "<p><strong>Service Charge</strong><br/>\n",
      "$5.00</p>\n",
      "<p style=\"text-align: center;\">Pursuant to the provisions of Act 87, 1982, Act 8, 1998, Act 18, 2001, Act 32, 2002, Act 122, 2002, Act 49 of 2009, Acts 126 and 113 of 2014, and Acts 40 and 44 of 2017.</p>\n",
      "</div>]\n"
     ]
    }
   ],
   "source": [
    "from bs4 import BeautifulSoup\n",
    "import requests\n",
    "import re\n",
    "\n",
    "url = \"https://www.lancasterdeeds.com/recording-information/fee-schedule\"\n",
    "page = requests.get(url)\n",
    "pagecontent = page.content\n",
    "\n",
    "soup = BeautifulSoup(pagecontent, 'html.parser')\n",
    "html = soup.find_all(\"div\", class_=\"grid-4 the__content\")\n",
    "\n",
    "print(html)"
   ]
  },
  {
   "cell_type": "code",
   "execution_count": 60,
   "metadata": {},
   "outputs": [
    {
     "name": "stdout",
     "output_type": "stream",
     "text": [
      "['$49.00', '$37.50', '$58.75', '$18.50', '$2.00', '$32.00', '$4.75', '$16.50', '$4.75', '$36.75', '$30.00', '$2.00', '$2.00', '$15.00', '$2.00', '$15.00', '$2.00', '$2.00', '$15.00', '$2.00', '$2.00', '$18.50', '$2.00', '$100.00', '$100.00', '$5.00', '$10.00', '$5.00']\n"
     ]
    }
   ],
   "source": [
    "dollar_amount = r'\\$\\d+\\.\\d{2}'\n",
    "\n",
    "fee_list = []\n",
    "\n",
    "for text in soup.find_all(text=True):\n",
    "    fees = re.findall(dollar_amount, text)\n",
    "    if fees:\n",
    "        for fee in fees:\n",
    "            fee_list.append(fee)\n",
    "\n",
    "print(fee_list)"
   ]
  },
  {
   "cell_type": "code",
   "execution_count": 61,
   "metadata": {},
   "outputs": [
    {
     "name": "stdout",
     "output_type": "stream",
     "text": [
      "['$49.00', '$37.50', '$58.75', '$18.50', '$2.00']\n"
     ]
    }
   ],
   "source": [
    "fee_list = fee_list[0:5]\n",
    "print(fee_list)"
   ]
  },
  {
   "cell_type": "code",
   "execution_count": 3,
   "metadata": {},
   "outputs": [
    {
     "name": "stdout",
     "output_type": "stream",
     "text": [
      "Error: 403 Client Error: Forbidden for url: https://www.lancasterdeeds.com/recording-information/fee-schedule\n"
     ]
    }
   ],
   "source": [
    "# from bs4 import BeautifulSoup\n",
    "# import requests\n",
    "# import re\n",
    "\n",
    "# url = \"https://www.lancasterdeeds.com/recording-information/fee-schedule\"\n",
    "\n",
    "# headers = {'User-Agent': 'Mozilla/5.0 (Windows NT 10.0; Win64; x64) AppleWebKit/537.36 (KHTML, like Gecko) Chrome/58.0.3029.110 Safari/537.36'}\n",
    "# page = requests.get(url, headers=headers)\n",
    "\n",
    "# try:\n",
    "#     page = requests.get(url)\n",
    "#     page.raise_for_status()\n",
    "#     pagecontent = page.content\n",
    "\n",
    "#     soup = BeautifulSoup(pagecontent, 'html.parser')\n",
    "#     html = soup.find_all(\"div\", class_=\"grid-4 the__content\")\n",
    "\n",
    "#     print(\"HTML Content:\\n\")\n",
    "#     print(html)\n",
    "    \n",
    "#     dollar_amount = r'\\$\\d+\\.\\d{2}'\n",
    "#     fee_list = []\n",
    "\n",
    "#     for text in soup.find_all(text=True):\n",
    "#         fees = re.findall(dollar_amount, text)\n",
    "#         if fees:\n",
    "#             for fee in fees:\n",
    "#                 fee_list.append(fee)\n",
    "\n",
    "#     fee_list = fee_list[0:5]\n",
    "\n",
    "#     print(fee_list)\n",
    "\n",
    "# except requests.exceptions.RequestException as e:\n",
    "#     print(f\"Error: {e}\")"
   ]
  },
  {
   "cell_type": "code",
   "execution_count": 62,
   "metadata": {},
   "outputs": [],
   "source": [
    "# TODO parse html for document types\n",
    "doc_list = []\n",
    "\n"
   ]
  },
  {
   "cell_type": "code",
   "execution_count": 63,
   "metadata": {},
   "outputs": [],
   "source": [
    "# dict comprehension to combine the two document and fee lists\n",
    "fee_schedule = {key:value for key, value in zip(doc_list, fee_list)} "
   ]
  }
 ],
 "metadata": {
  "kernelspec": {
   "display_name": "Python 3",
   "language": "python",
   "name": "python3"
  },
  "language_info": {
   "codemirror_mode": {
    "name": "ipython",
    "version": 3
   },
   "file_extension": ".py",
   "mimetype": "text/x-python",
   "name": "python",
   "nbconvert_exporter": "python",
   "pygments_lexer": "ipython3",
   "version": "3.11.5"
  },
  "orig_nbformat": 4
 },
 "nbformat": 4,
 "nbformat_minor": 2
}
